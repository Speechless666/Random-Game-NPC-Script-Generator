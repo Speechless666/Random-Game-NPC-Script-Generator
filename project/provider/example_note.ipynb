{
 "cells": [
  {
   "cell_type": "code",
   "execution_count": 31,
   "id": "bf0fe8c8",
   "metadata": {},
   "outputs": [
    {
     "name": "stdout",
     "output_type": "stream",
     "text": [
      "The autoreload extension is already loaded. To reload it, use:\n",
      "  %reload_ext autoreload\n"
     ]
    }
   ],
   "source": [
    "# main.py\n",
    "from typing import List, Dict, Any, Optional\n",
    "import os\n",
    "\n",
    "# 尝试以包的绝对路径导入 validators（当项目作为包运行时更稳定）\n",
    "try:\n",
    "    import project.runtime.validators as validators\n",
    "    from provider.qwen import QwenProvider\n",
    "    from runtime.generator import Generator\n",
    "    from runtime.oocChecker import OOCChecker\n",
    "    from runtime.memory_store import MemoryStore\n",
    "    from runtime.memory_summarizer import MemorySummarizer\n",
    "except Exception:\n",
    "    # 回退到相对导入或本地 import，便于在不同执行上下文下运行\n",
    "    try:\n",
    "        from . import validators, QwenProvider, Generator, OOCChecker, MemoryStore, MemorySummarizer\n",
    "    except Exception:\n",
    "        import validators\n",
    "        from qwen import QwenProvider\n",
    "        from generator import Generator\n",
    "        from oocChecker import OOCChecker\n",
    "        from memory_store import MemoryStore\n",
    "        from memory_summarizer import MemorySummarizer\n",
    "\n",
    "# 每次都重新加载以上导入的模块，确保使用最新代码\n",
    "%load_ext autoreload\n",
    "%autoreload 2"
   ]
  },
  {
   "cell_type": "code",
   "execution_count": 39,
   "id": "082114f5",
   "metadata": {},
   "outputs": [
    {
     "name": "stdout",
     "output_type": "stream",
     "text": [
      "api not from env\n",
      "\n",
      "QwenProvider.generate attempt 1\n",
      "Response received, processing chunks...\n",
      "Full generated text: [\n",
      "  {\n",
      "    \"reply\": \"Oh, you're in luck! Just this morning, a traveler mentioned something about a hidden cave filled with gold... or was it a dragon? Either way, it's bound to be exciting!\",\n",
      "    \"emotion\": \"happy\"\n",
      "  },\n",
      "  {\n",
      "    \"reply\": \"Hmm\n",
      "<class 'str'>\n",
      "[ERROR] Unterminated string starting at: line 7 column 14 (char 236)\n",
      "[WARN] Failed to parse JSON output, retrying...\n",
      "\n",
      "QwenProvider.generate attempt 2\n",
      "Response received, processing chunks...\n",
      "Full generated text: [\n",
      "  {\n",
      "    \"reply\": \"Oh, you're in luck! Just this morning, a traveler mentioned something about a hidden cave with glowing mushrooms. Want me to tell you where he said it was?\",\n",
      "    \"emotion\": \"happy\"\n",
      "  },\n",
      "  {\n",
      "    \"reply\": \"Hmm... You didn't hear\n",
      "<class 'str'>\n",
      "[ERROR] Unterminated string starting at: line 7 column 14 (char 223)\n",
      "[WARN] Failed to parse JSON output, retrying...\n",
      "Exiting generate after retries.\n",
      "Raw provider output for candidates: [\n",
      "  {\n",
      "    \"reply\": \"Oh, you're in luck! Just this morning, a traveler mentioned something about a hidden cave with glowing mushrooms. Want me to tell you where he said it was?\",\n",
      "    \"emotion\": \"happy\"\n",
      "  },\n",
      "  {\n",
      "    \"reply\": \"Hmm... You didn't hear\n",
      "[safe_json_parse] JSON parse failed: Unterminated string starting at: line 7 column 14 (char 223)\n",
      "Raw text:\n",
      "[\n",
      "  {\n",
      "    \"reply\": \"Oh, you're in luck! Just this morning, a traveler mentioned something about a hidden cave with glowing mushrooms. Want me to tell you where he said it was?\",\n",
      "    \"emotion\": \"happy\"\n",
      "  },\n",
      "  {\n",
      "    \"reply\": \"Hmm... You didn't hear...\n",
      "[ERROR] Failed to parse provider output into JSON. Using fallback reply.\n",
      "\n",
      "QwenProvider.generate attempt 1\n",
      "Response received, processing chunks...\n",
      "Full generated text: {\"self_report\": \"Polite and attentive, seeking clarification\", \"sentiment\": \"neutral\"}\n",
      "<class 'str'>\n",
      "Parsed JSON: {'self_report': 'Polite and attentive, seeking clarification', 'sentiment': 'neutral'}\n"
     ]
    }
   ],
   "source": [
    "if __name__ == \"__main__\":\n",
    "    api_key = \"sk-f61e853433b54ba297fa1be4680bc99e\"\n",
    "    provider = QwenProvider(api_key)\n",
    "    gen = Generator(provider)\n",
    "    ooc = OOCChecker(provider)\n",
    "    mem = MemoryStore()\n",
    "    summ = MemorySummarizer(provider)\n",
    "\n",
    "persona = \"Elira, a cheerful tavern keeper who knows the town’s secrets.\"\n",
    "context = \"Player enters the tavern and asks for rumors.\"\n",
    "\n",
    "# 生成候选\n",
    "candidates = gen.generate_candidates(ctx=context, persona=persona, n=2)"
   ]
  },
  {
   "cell_type": "code",
   "execution_count": null,
   "id": "b390798c",
   "metadata": {},
   "outputs": [
    {
     "name": "stdout",
     "output_type": "stream",
     "text": [
      "Generated Candidates: [{'draft': {'text': \"I'm sorry, I didn’t quite catch that.\", 'meta': {'self_report': 'Polite and attentive, seeking clarification', 'sentiment': 'neutral'}}}]\n",
      "{'draft': {'text': \"I'm sorry, I didn’t quite catch that.\", 'meta': {'self_report': 'Polite and attentive, seeking clarification', 'sentiment': 'neutral'}}}\n"
     ]
    },
    {
     "ename": "TypeError",
     "evalue": "the JSON object must be str, bytes or bytearray, not list",
     "output_type": "error",
     "traceback": [
      "\u001b[1;31m---------------------------------------------------------------------------\u001b[0m",
      "\u001b[1;31mTypeError\u001b[0m                                 Traceback (most recent call last)",
      "Cell \u001b[1;32mIn[40], line 4\u001b[0m\n\u001b[0;32m      2\u001b[0m \u001b[38;5;28mprint\u001b[39m(\u001b[38;5;124m\"\u001b[39m\u001b[38;5;124mGenerated Candidates:\u001b[39m\u001b[38;5;124m\"\u001b[39m, candidates)\n\u001b[0;32m      3\u001b[0m \u001b[38;5;28mprint\u001b[39m(candidates[\u001b[38;5;241m0\u001b[39m])\n\u001b[1;32m----> 4\u001b[0m \u001b[43mjson\u001b[49m\u001b[38;5;241;43m.\u001b[39;49m\u001b[43mloads\u001b[49m\u001b[43m(\u001b[49m\u001b[43mcandidates\u001b[49m\u001b[43m)\u001b[49m  \u001b[38;5;66;03m# 测试第一个候选是否为有效 JSON\u001b[39;00m\n",
      "File \u001b[1;32md:\\codetools\\anaconda3\\envs\\py3.9\\lib\\json\\__init__.py:339\u001b[0m, in \u001b[0;36mloads\u001b[1;34m(s, cls, object_hook, parse_float, parse_int, parse_constant, object_pairs_hook, **kw)\u001b[0m\n\u001b[0;32m    337\u001b[0m \u001b[38;5;28;01melse\u001b[39;00m:\n\u001b[0;32m    338\u001b[0m     \u001b[38;5;28;01mif\u001b[39;00m \u001b[38;5;129;01mnot\u001b[39;00m \u001b[38;5;28misinstance\u001b[39m(s, (\u001b[38;5;28mbytes\u001b[39m, \u001b[38;5;28mbytearray\u001b[39m)):\n\u001b[1;32m--> 339\u001b[0m         \u001b[38;5;28;01mraise\u001b[39;00m \u001b[38;5;167;01mTypeError\u001b[39;00m(\u001b[38;5;124mf\u001b[39m\u001b[38;5;124m'\u001b[39m\u001b[38;5;124mthe JSON object must be str, bytes or bytearray, \u001b[39m\u001b[38;5;124m'\u001b[39m\n\u001b[0;32m    340\u001b[0m                         \u001b[38;5;124mf\u001b[39m\u001b[38;5;124m'\u001b[39m\u001b[38;5;124mnot \u001b[39m\u001b[38;5;132;01m{\u001b[39;00ms\u001b[38;5;241m.\u001b[39m\u001b[38;5;18m__class__\u001b[39m\u001b[38;5;241m.\u001b[39m\u001b[38;5;18m__name__\u001b[39m\u001b[38;5;132;01m}\u001b[39;00m\u001b[38;5;124m'\u001b[39m)\n\u001b[0;32m    341\u001b[0m     s \u001b[38;5;241m=\u001b[39m s\u001b[38;5;241m.\u001b[39mdecode(detect_encoding(s), \u001b[38;5;124m'\u001b[39m\u001b[38;5;124msurrogatepass\u001b[39m\u001b[38;5;124m'\u001b[39m)\n\u001b[0;32m    343\u001b[0m \u001b[38;5;28;01mif\u001b[39;00m (\u001b[38;5;28mcls\u001b[39m \u001b[38;5;129;01mis\u001b[39;00m \u001b[38;5;28;01mNone\u001b[39;00m \u001b[38;5;129;01mand\u001b[39;00m object_hook \u001b[38;5;129;01mis\u001b[39;00m \u001b[38;5;28;01mNone\u001b[39;00m \u001b[38;5;129;01mand\u001b[39;00m\n\u001b[0;32m    344\u001b[0m         parse_int \u001b[38;5;129;01mis\u001b[39;00m \u001b[38;5;28;01mNone\u001b[39;00m \u001b[38;5;129;01mand\u001b[39;00m parse_float \u001b[38;5;129;01mis\u001b[39;00m \u001b[38;5;28;01mNone\u001b[39;00m \u001b[38;5;129;01mand\u001b[39;00m\n\u001b[0;32m    345\u001b[0m         parse_constant \u001b[38;5;129;01mis\u001b[39;00m \u001b[38;5;28;01mNone\u001b[39;00m \u001b[38;5;129;01mand\u001b[39;00m object_pairs_hook \u001b[38;5;129;01mis\u001b[39;00m \u001b[38;5;28;01mNone\u001b[39;00m \u001b[38;5;129;01mand\u001b[39;00m \u001b[38;5;129;01mnot\u001b[39;00m kw):\n",
      "\u001b[1;31mTypeError\u001b[0m: the JSON object must be str, bytes or bytearray, not list"
     ]
    }
   ],
   "source": [
    "import json\n",
    "print(\"Generated Candidates:\", candidates)"
   ]
  },
  {
   "cell_type": "code",
   "execution_count": null,
   "id": "8d6d9776",
   "metadata": {},
   "outputs": [
    {
     "name": "stdout",
     "output_type": "stream",
     "text": [
      "Selected Response: {'draft': {'text': \"I'm sorry, I didn’t quite catch that.\", 'meta': {'self_report': 'Polite and attentive, seeking clarification', 'sentiment': 'neutral'}}}\n"
     ]
    }
   ],
   "source": [
    "# 重排选优\n",
    "best = gen.rank(candidates, persona, context)\n",
    "print(\"Selected Response:\", best)\n"
   ]
  },
  {
   "cell_type": "code",
   "execution_count": null,
   "id": "09e61811",
   "metadata": {},
   "outputs": [
    {
     "name": "stdout",
     "output_type": "stream",
     "text": [
      "\n",
      "QwenProvider.generate attempt 1\n",
      "Response received, processing chunks...\n",
      "Full generated text: ```json\n",
      "{\n",
      "  \"ooc_risk\": 0.85,\n",
      "  \"reasons\": [\n",
      "    \"The NPC's response is generic and evasive, which may indicate a failure to engage with the player's request in a meaningful, character-consistent way.\",\n",
      "    \"In the context of a tavern\n",
      "\n",
      "QwenProvider.generate attempt 2\n",
      "Response received, processing chunks...\n",
      "Full generated text: {\n",
      "  \"ooc_risk\": 0.1,\n",
      "  \"reasons\": [\n",
      "    \"The NPC reply is a polite request for repetition, which can occur in-character if the NPC simply didn't hear or understand the player's question.\",\n",
      "    \"The response maintains a neutral sentiment and does not break immersion or\n",
      "[WARN] provider.judge() 返回 None 或非法格式，使用默认值。\n",
      "OOC Check: {'draft': {'text': \"I'm sorry, I didn’t quite catch that.\", 'meta': {'self_report': 'I feel politely attentive and ready to listen again.', 'sentiment': 'neutral'}}, 'meta': {'ooc_flag': False}}\n"
     ]
    }
   ],
   "source": [
    "# OOC检测\n",
    "checked = ooc.judge_ooc(context, best)\n",
    "print(\"OOC Check:\", checked)"
   ]
  },
  {
   "cell_type": "code",
   "execution_count": null,
   "id": "1dc781c3",
   "metadata": {},
   "outputs": [],
   "source": [
    "# 写入记忆\n",
    "mem.append_event({\"speaker\": \"NPC\", \"text\": checked[\"reply\"], \"emotion\": checked[\"emotion\"]})"
   ]
  },
  {
   "cell_type": "code",
   "execution_count": null,
   "id": "eb140af1",
   "metadata": {},
   "outputs": [],
   "source": [
    "\n",
    "# 摘要记忆\n",
    "facts = summ.summarize(mem.get_short_window())\n",
    "mem.write_longterm(\"player1\", \"npc_elira\", facts)\n",
    "\n",
    "print(\"NPC:\", checked[\"reply\"], \"| Emotion:\", checked[\"emotion\"])\n"
   ]
  }
 ],
 "metadata": {
  "kernelspec": {
   "display_name": "py3.9",
   "language": "python",
   "name": "python3"
  },
  "language_info": {
   "codemirror_mode": {
    "name": "ipython",
    "version": 3
   },
   "file_extension": ".py",
   "mimetype": "text/x-python",
   "name": "python",
   "nbconvert_exporter": "python",
   "pygments_lexer": "ipython3",
   "version": "3.9.23"
  }
 },
 "nbformat": 4,
 "nbformat_minor": 5
}
