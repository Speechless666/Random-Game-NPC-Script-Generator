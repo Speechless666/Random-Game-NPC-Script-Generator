{
 "cells": [
  {
   "cell_type": "code",
   "execution_count": 11,
   "id": "bf0fe8c8",
   "metadata": {},
   "outputs": [
    {
     "name": "stdout",
     "output_type": "stream",
     "text": [
      "The autoreload extension is already loaded. To reload it, use:\n",
      "  %reload_ext autoreload\n"
     ]
    }
   ],
   "source": [
    "# main.py\n",
    "from typing import List, Dict, Any, Optional\n",
    "import os\n",
    "\n",
    "# 尝试以包的绝对路径导入 validators（当项目作为包运行时更稳定）\n",
    "try:\n",
    "    import project.runtime.validators as validators\n",
    "    from provider.qwen import QwenProvider\n",
    "    from runtime.generator import Generator\n",
    "    from runtime.oocChecker import OOCChecker\n",
    "    from runtime.memory_store import MemoryStore\n",
    "    from runtime.memory_summarizer import MemorySummarizer\n",
    "except Exception:\n",
    "    # 回退到相对导入或本地 import，便于在不同执行上下文下运行\n",
    "    try:\n",
    "        from . import validators, QwenProvider, Generator, OOCChecker, MemoryStore, MemorySummarizer\n",
    "    except Exception:\n",
    "        import validators\n",
    "        from qwen import QwenProvider\n",
    "        from generator import Generator\n",
    "        from oocChecker import OOCChecker\n",
    "        from memory_store import MemoryStore\n",
    "        from memory_summarizer import MemorySummarizer\n",
    "\n",
    "# 每次都重新加载以上导入的模块，确保使用最新代码\n",
    "%load_ext autoreload\n",
    "%autoreload 2"
   ]
  },
  {
   "cell_type": "code",
   "execution_count": 12,
   "id": "082114f5",
   "metadata": {},
   "outputs": [
    {
     "name": "stdout",
     "output_type": "stream",
     "text": [
      "api not from env\n",
      "\n",
      "QwenProvider.generate attempt 1\n",
      "Response received, processing chunks...\n",
      "\n",
      "QwenProvider.generate attempt 2\n",
      "Response received, processing chunks...\n"
     ]
    },
    {
     "ename": "APIError",
     "evalue": "Qwen API failed after 2 retries: \n'tuple' object has no attribute 'choices'",
     "output_type": "error",
     "traceback": [
      "\u001b[1;31m---------------------------------------------------------------------------\u001b[0m",
      "\u001b[1;31mAttributeError\u001b[0m                            Traceback (most recent call last)",
      "File \u001b[1;32md:\\NUS AI4S\\DSA4213\\code\\FinalReport\\provider\\qwen.py:42\u001b[0m, in \u001b[0;36mQwenProvider.generate\u001b[1;34m(self, prompt, schema, max_new_tokens, retries)\u001b[0m\n\u001b[0;32m     40\u001b[0m \u001b[38;5;28;01mfor\u001b[39;00m chunk \u001b[38;5;129;01min\u001b[39;00m response:\n\u001b[0;32m     41\u001b[0m     \u001b[38;5;66;03m# 如果chunk.choices为空，打印usage信息以调试\u001b[39;00m\n\u001b[1;32m---> 42\u001b[0m     \u001b[38;5;28;01mif\u001b[39;00m \u001b[38;5;129;01mnot\u001b[39;00m \u001b[43mchunk\u001b[49m\u001b[38;5;241;43m.\u001b[39;49m\u001b[43mchoices\u001b[49m:\n\u001b[0;32m     43\u001b[0m         \u001b[38;5;28mprint\u001b[39m(\u001b[38;5;124m\"\u001b[39m\u001b[38;5;130;01m\\n\u001b[39;00m\u001b[38;5;124mUsage:\u001b[39m\u001b[38;5;124m\"\u001b[39m)\n",
      "\u001b[1;31mAttributeError\u001b[0m: 'tuple' object has no attribute 'choices'",
      "\nDuring handling of the above exception, another exception occurred:\n",
      "\u001b[1;31mAPIError\u001b[0m                                  Traceback (most recent call last)",
      "Cell \u001b[1;32mIn[12], line 13\u001b[0m\n\u001b[0;32m     10\u001b[0m context \u001b[38;5;241m=\u001b[39m \u001b[38;5;124m\"\u001b[39m\u001b[38;5;124mPlayer enters the tavern and asks for rumors.\u001b[39m\u001b[38;5;124m\"\u001b[39m\n\u001b[0;32m     12\u001b[0m \u001b[38;5;66;03m# 生成候选\u001b[39;00m\n\u001b[1;32m---> 13\u001b[0m candidates \u001b[38;5;241m=\u001b[39m \u001b[43mgen\u001b[49m\u001b[38;5;241;43m.\u001b[39;49m\u001b[43mgenerate_candidates\u001b[49m\u001b[43m(\u001b[49m\u001b[43mctx\u001b[49m\u001b[38;5;241;43m=\u001b[39;49m\u001b[43mcontext\u001b[49m\u001b[43m,\u001b[49m\u001b[43m \u001b[49m\u001b[43mpersona\u001b[49m\u001b[38;5;241;43m=\u001b[39;49m\u001b[43mpersona\u001b[49m\u001b[43m,\u001b[49m\u001b[43m \u001b[49m\u001b[43mn\u001b[49m\u001b[38;5;241;43m=\u001b[39;49m\u001b[38;5;241;43m2\u001b[39;49m\u001b[43m)\u001b[49m\n",
      "File \u001b[1;32md:\\NUS AI4S\\DSA4213\\code\\FinalReport\\provider\\generator.py:50\u001b[0m, in \u001b[0;36mGenerator.generate_candidates\u001b[1;34m(self, ctx, persona, n)\u001b[0m\n\u001b[0;32m     40\u001b[0m prompt \u001b[38;5;241m=\u001b[39m \u001b[38;5;124mf\u001b[39m\u001b[38;5;124m\"\"\"\u001b[39m\n\u001b[0;32m     41\u001b[0m \u001b[38;5;124mYou are an NPC. Persona: \u001b[39m\u001b[38;5;132;01m{\u001b[39;00mpersona\u001b[38;5;132;01m}\u001b[39;00m\u001b[38;5;124m.\u001b[39m\n\u001b[0;32m     42\u001b[0m \u001b[38;5;124mContext: \u001b[39m\u001b[38;5;132;01m{\u001b[39;00mctx\u001b[38;5;132;01m}\u001b[39;00m\u001b[38;5;124m.\u001b[39m\n\u001b[1;32m   (...)\u001b[0m\n\u001b[0;32m     47\u001b[0m \u001b[38;5;124m\u001b[39m\u001b[38;5;130;01m}}\u001b[39;00m\n\u001b[0;32m     48\u001b[0m \u001b[38;5;124m\u001b[39m\u001b[38;5;124m\"\"\"\u001b[39m\n\u001b[0;32m     49\u001b[0m \u001b[38;5;66;03m# 期望 provider 返回一个包含 {reply, emotion} 的列表\u001b[39;00m\n\u001b[1;32m---> 50\u001b[0m raw_candidates \u001b[38;5;241m=\u001b[39m \u001b[38;5;28;43mself\u001b[39;49m\u001b[38;5;241;43m.\u001b[39;49m\u001b[43mprovider\u001b[49m\u001b[38;5;241;43m.\u001b[39;49m\u001b[43mgenerate\u001b[49m\u001b[43m(\u001b[49m\u001b[43mprompt\u001b[49m\u001b[43m,\u001b[49m\u001b[43m \u001b[49m\u001b[43mschema\u001b[49m\u001b[38;5;241;43m=\u001b[39;49m\u001b[43m[\u001b[49m\u001b[38;5;124;43m\"\u001b[39;49m\u001b[38;5;124;43mreply\u001b[39;49m\u001b[38;5;124;43m\"\u001b[39;49m\u001b[43m,\u001b[49m\u001b[43m \u001b[49m\u001b[38;5;124;43m\"\u001b[39;49m\u001b[38;5;124;43memotion\u001b[39;49m\u001b[38;5;124;43m\"\u001b[39;49m\u001b[43m]\u001b[49m\u001b[43m)\u001b[49m\n\u001b[0;32m     52\u001b[0m wrapped: List[Dict[\u001b[38;5;28mstr\u001b[39m, Any]] \u001b[38;5;241m=\u001b[39m []\n\u001b[0;32m     53\u001b[0m \u001b[38;5;66;03m# Normalize to list if provider returns a single dict\u001b[39;00m\n",
      "File \u001b[1;32md:\\NUS AI4S\\DSA4213\\code\\FinalReport\\provider\\qwen.py:68\u001b[0m, in \u001b[0;36mQwenProvider.generate\u001b[1;34m(self, prompt, schema, max_new_tokens, retries)\u001b[0m\n\u001b[0;32m     66\u001b[0m time\u001b[38;5;241m.\u001b[39msleep(\u001b[38;5;241m0.5\u001b[39m)\n\u001b[0;32m     67\u001b[0m \u001b[38;5;28;01mif\u001b[39;00m attempt \u001b[38;5;241m==\u001b[39m retries \u001b[38;5;241m-\u001b[39m \u001b[38;5;241m1\u001b[39m:\n\u001b[1;32m---> 68\u001b[0m     \u001b[38;5;28;01mraise\u001b[39;00m APIError(\u001b[38;5;124mf\u001b[39m\u001b[38;5;124m\"\u001b[39m\u001b[38;5;124mQwen API failed after \u001b[39m\u001b[38;5;132;01m{\u001b[39;00mretries\u001b[38;5;132;01m}\u001b[39;00m\u001b[38;5;124m retries: \u001b[39m\u001b[38;5;130;01m\\n\u001b[39;00m\u001b[38;5;132;01m{\u001b[39;00m\u001b[38;5;28mstr\u001b[39m(e)\u001b[38;5;132;01m}\u001b[39;00m\u001b[38;5;124m\"\u001b[39m)\n",
      "\u001b[1;31mAPIError\u001b[0m: Qwen API failed after 2 retries: \n'tuple' object has no attribute 'choices'"
     ]
    }
   ],
   "source": [
    "if __name__ == \"__main__\":\n",
    "    api_key = \"sk-f61e853433b54ba297fa1be4680bc99e\"\n",
    "    provider = QwenProvider(api_key)\n",
    "    gen = Generator(provider)\n",
    "    ooc = OOCChecker(provider)\n",
    "    mem = MemoryStore()\n",
    "    summ = MemorySummarizer(provider)\n",
    "\n",
    "persona = \"Elira, a cheerful tavern keeper who knows the town’s secrets.\"\n",
    "context = \"Player enters the tavern and asks for rumors.\"\n",
    "\n",
    "# 生成候选\n",
    "candidates = gen.generate_candidates(ctx=context, persona=persona, n=2)\n"
   ]
  },
  {
   "cell_type": "code",
   "execution_count": null,
   "id": "b390798c",
   "metadata": {},
   "outputs": [],
   "source": [
    "# 重排选优\n",
    "best = gen.rank(candidates, persona, context)\n",
    "print(\"Selected Response:\", best)"
   ]
  },
  {
   "cell_type": "code",
   "execution_count": null,
   "id": "09e61811",
   "metadata": {},
   "outputs": [],
   "source": [
    "# OOC检测\n",
    "checked = ooc.judge_ooc(context, best)\n",
    "print(\"OOC Check:\", checked)"
   ]
  },
  {
   "cell_type": "code",
   "execution_count": null,
   "id": "1dc781c3",
   "metadata": {},
   "outputs": [],
   "source": [
    "# 写入记忆\n",
    "mem.append_event({\"speaker\": \"NPC\", \"text\": checked[\"reply\"], \"emotion\": checked[\"emotion\"]})"
   ]
  },
  {
   "cell_type": "code",
   "execution_count": null,
   "id": "eb140af1",
   "metadata": {},
   "outputs": [],
   "source": [
    "\n",
    "# 摘要记忆\n",
    "facts = summ.summarize(mem.get_short_window())\n",
    "mem.write_longterm(\"player1\", \"npc_elira\", facts)\n",
    "\n",
    "print(\"NPC:\", checked[\"reply\"], \"| Emotion:\", checked[\"emotion\"])\n"
   ]
  }
 ],
 "metadata": {
  "kernelspec": {
   "display_name": "py3.9",
   "language": "python",
   "name": "python3"
  },
  "language_info": {
   "codemirror_mode": {
    "name": "ipython",
    "version": 3
   },
   "file_extension": ".py",
   "mimetype": "text/x-python",
   "name": "python",
   "nbconvert_exporter": "python",
   "pygments_lexer": "ipython3",
   "version": "3.9.23"
  }
 },
 "nbformat": 4,
 "nbformat_minor": 5
}
