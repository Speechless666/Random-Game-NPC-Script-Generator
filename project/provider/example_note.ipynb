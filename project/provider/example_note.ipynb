{
 "cells": [
  {
   "cell_type": "code",
   "execution_count": 34,
   "id": "bf0fe8c8",
   "metadata": {},
   "outputs": [
    {
     "name": "stdout",
     "output_type": "stream",
     "text": [
      "The autoreload extension is already loaded. To reload it, use:\n",
      "  %reload_ext autoreload\n"
     ]
    }
   ],
   "source": [
    "# main.py\n",
    "from typing import List, Dict, Any, Optional\n",
    "import os\n",
    "from dotenv import load_dotenv\n",
    "\n",
    "# 尝试以包的绝对路径导入 validators（当项目作为包运行时更稳定）\n",
    "try:\n",
    "    import project.runtime.validators as validators\n",
    "    from provider.qwen import QwenProvider\n",
    "    from runtime.generator import Generator\n",
    "    from runtime.oocChecker import OOCChecker\n",
    "    from runtime.memory_store import MemoryStore\n",
    "    from runtime.memory_summarizer import MemorySummarizer\n",
    "except Exception:\n",
    "    # 回退到相对导入或本地 import，便于在不同执行上下文下运行\n",
    "    try:\n",
    "        from . import validators, QwenProvider, Generator, OOCChecker, MemoryStore, MemorySummarizer\n",
    "    except Exception:\n",
    "        import validators\n",
    "        from qwen import QwenProvider\n",
    "        from generator import Generator\n",
    "        from oocChecker import OOCChecker\n",
    "        from memory_store import MemoryStore\n",
    "        from memory_summarizer import MemorySummarizer\n",
    "\n",
    "# 每次都重新加载以上导入的模块，确保使用最新代码\n",
    "%load_ext autoreload\n",
    "%autoreload 2"
   ]
  },
  {
   "cell_type": "code",
   "execution_count": 40,
   "id": "082114f5",
   "metadata": {},
   "outputs": [
    {
     "name": "stdout",
     "output_type": "stream",
     "text": [
      "api from env\n",
      "\n",
      "QwenProvider.generate attempt 1\n",
      "Parsed type: <class 'list'>\n",
      "Parsed JSON: [{'reply': \"Oh, I'm just splendid today! The sun is shining, the ale is flowing, and there's a delightful buzz in the air. How about you?\", 'emotion': 'happy'}, {'reply': \"Ah, you know, it's been a bit slow today. But I can't complain—there’s always something brewing in this old tavern.\", 'emotion': 'neutral'}]\n",
      "\n",
      "QwenProvider.generate attempt 1\n",
      "[ERROR] Expecting value: line 1 column 1 (char 0)\n",
      "[WARN] Failed to parse JSON output, retrying...\n",
      "\n",
      "QwenProvider.generate attempt 2\n",
      "Parsed type: <class 'dict'>\n",
      "[ERROR] 0\n",
      "[WARN] Failed to parse JSON output, retrying...\n",
      "Exiting generate after retries.\n",
      "\n",
      "QwenProvider.generate attempt 1\n",
      "Parsed type: <class 'dict'>\n",
      "[ERROR] 0\n",
      "[WARN] Failed to parse JSON output, retrying...\n",
      "\n",
      "QwenProvider.generate attempt 2\n",
      "Parsed type: <class 'dict'>\n",
      "[ERROR] 0\n",
      "[WARN] Failed to parse JSON output, retrying...\n",
      "Exiting generate after retries.\n"
     ]
    }
   ],
   "source": [
    "if __name__ == \"__main__\":\n",
    "    provider = QwenProvider(apikey=\"QWEN_API_KEY\")\n",
    "    gen = Generator(provider)\n",
    "    ooc = OOCChecker(provider)\n",
    "    mem = MemoryStore()\n",
    "    summ = MemorySummarizer(provider)\n",
    "\n",
    "persona = \"Elira, a cheerful tavern keeper who knows the town's secrets\"\n",
    "context = \"How are you today?\"\n",
    "\n",
    "# 生成候选\n",
    "candidates = gen.generate_candidates(ctx=context, persona=persona, n=2)"
   ]
  },
  {
   "cell_type": "code",
   "execution_count": 41,
   "id": "b390798c",
   "metadata": {},
   "outputs": [
    {
     "name": "stdout",
     "output_type": "stream",
     "text": [
      "Generated Candidates: [{'draft': {'text': \"Oh, I'm just splendid today! The sun is shining, the ale is flowing, and there's a delightful buzz in the air. How about you?\", 'meta': {'self_report': 'I feel cheerful and upbeat, enjoying the lively atmosphere and good company.', 'sentiment': 'positive'}}}, {'draft': {'text': \"Ah, you know, it's been a bit slow today. But I can't complain—there’s always something brewing in this old tavern.\", 'meta': {'self_report': \"I feel content and optimistic, enjoying the calm while anticipating what's to come.\", 'sentiment': 'positive'}}}]\n"
     ]
    }
   ],
   "source": [
    "import json\n",
    "print(\"Generated Candidates:\", candidates)"
   ]
  },
  {
   "cell_type": "code",
   "execution_count": 42,
   "id": "8d6d9776",
   "metadata": {},
   "outputs": [
    {
     "name": "stdout",
     "output_type": "stream",
     "text": [
      "Selected Response: {'draft': {'text': \"Ah, you know, it's been a bit slow today. But I can't complain—there’s always something brewing in this old tavern.\", 'meta': {'self_report': \"I feel content and optimistic, enjoying the calm while anticipating what's to come.\", 'sentiment': 'positive'}}}\n"
     ]
    }
   ],
   "source": [
    "# 重排选优\n",
    "best = gen.rank(candidates, persona, context)\n",
    "print(\"Selected Response:\", best)\n"
   ]
  },
  {
   "cell_type": "code",
   "execution_count": 43,
   "id": "1dc781c3",
   "metadata": {},
   "outputs": [],
   "source": [
    "# 写入记忆\n",
    "mem.append_event({\"speaker\": \"NPC\", \"text\": best[\"draft\"][\"text\"], \"emotion\": best[\"draft\"][\"meta\"][\"sentiment\"]})"
   ]
  },
  {
   "cell_type": "code",
   "execution_count": 44,
   "id": "eb140af1",
   "metadata": {},
   "outputs": [
    {
     "name": "stdout",
     "output_type": "stream",
     "text": [
      "\n",
      "QwenProvider.generate attempt 1\n",
      "[ERROR] Expecting value: line 1 column 1 (char 0)\n",
      "[WARN] Failed to parse JSON output, retrying...\n",
      "\n",
      "QwenProvider.generate attempt 2\n",
      "[ERROR] Expecting value: line 1 column 1 (char 0)\n",
      "[WARN] Failed to parse JSON output, retrying...\n",
      "Exiting generate after retries.\n",
      "NPC: Ah, you know, it's been a bit slow today. But I can't complain—there’s always something brewing in this old tavern. | Emotion: positive\n"
     ]
    }
   ],
   "source": [
    "\n",
    "# 摘要记忆\n",
    "facts = summ.summarize(mem.get_short_window())\n",
    "mem.write_longterm(\"player1\", \"npc_elira\", facts)\n",
    "\n",
    "print(\"NPC:\", best[\"draft\"][\"text\"], \"| Emotion:\", best[\"draft\"][\"meta\"][\"sentiment\"])\n",
    "\n"
   ]
  }
 ],
 "metadata": {
  "kernelspec": {
   "display_name": "py3.9",
   "language": "python",
   "name": "python3"
  },
  "language_info": {
   "codemirror_mode": {
    "name": "ipython",
    "version": 3
   },
   "file_extension": ".py",
   "mimetype": "text/x-python",
   "name": "python",
   "nbconvert_exporter": "python",
   "pygments_lexer": "ipython3",
   "version": "3.9.23"
  }
 },
 "nbformat": 4,
 "nbformat_minor": 5
}
