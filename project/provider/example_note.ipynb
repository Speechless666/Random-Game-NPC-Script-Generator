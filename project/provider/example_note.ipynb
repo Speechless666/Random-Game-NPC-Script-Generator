{
 "cells": [
  {
   "cell_type": "code",
   "execution_count": 63,
   "id": "bf0fe8c8",
   "metadata": {},
   "outputs": [
    {
     "name": "stdout",
     "output_type": "stream",
     "text": [
      "The autoreload extension is already loaded. To reload it, use:\n",
      "  %reload_ext autoreload\n"
     ]
    }
   ],
   "source": [
    "# main.py\n",
    "from typing import List, Dict, Any, Optional\n",
    "import os\n",
    "\n",
    "# 尝试以包的绝对路径导入 validators（当项目作为包运行时更稳定）\n",
    "try:\n",
    "    import project.runtime.validators as validators\n",
    "    from provider.qwen import QwenProvider\n",
    "    from runtime.generator import Generator\n",
    "    from runtime.oocChecker import OOCChecker\n",
    "    from runtime.memory_store import MemoryStore\n",
    "    from runtime.memory_summarizer import MemorySummarizer\n",
    "except Exception:\n",
    "    # 回退到相对导入或本地 import，便于在不同执行上下文下运行\n",
    "    try:\n",
    "        from . import validators, QwenProvider, Generator, OOCChecker, MemoryStore, MemorySummarizer\n",
    "    except Exception:\n",
    "        import validators\n",
    "        from qwen import QwenProvider\n",
    "        from generator import Generator\n",
    "        from oocChecker import OOCChecker\n",
    "        from memory_store import MemoryStore\n",
    "        from memory_summarizer import MemorySummarizer\n",
    "\n",
    "# 每次都重新加载以上导入的模块，确保使用最新代码\n",
    "%load_ext autoreload\n",
    "%autoreload 2"
   ]
  },
  {
   "cell_type": "code",
   "execution_count": 58,
   "id": "082114f5",
   "metadata": {},
   "outputs": [
    {
     "name": "stdout",
     "output_type": "stream",
     "text": [
      "api not from env\n",
      "\n",
      "QwenProvider.generate attempt 1\n",
      "[ERROR] Missing key: reply\n",
      "[WARN] Failed to parse JSON output, retrying...\n",
      "\n",
      "QwenProvider.generate attempt 2\n",
      "[ERROR] Expecting value: line 1 column 1 (char 0)\n",
      "[WARN] Failed to parse JSON output, retrying...\n",
      "Exiting generate after retries.\n",
      "\n",
      "QwenProvider.generate attempt 1\n",
      "Parsed JSON: {'self_report': 'I feel excited and a bit mysterious, as if I’ve just shared a secret that could lead to adventure.', 'sentiment': 'positive'}\n",
      "\n",
      "QwenProvider.generate attempt 1\n",
      "Parsed JSON: {'self_report': 'I feel intrigued and slightly uneasy, as the mystery deepens and suspicion grows.', 'sentiment': 'negative'}\n"
     ]
    }
   ],
   "source": [
    "if __name__ == \"__main__\":\n",
    "    api_key = \"sk-f61e853433b54ba297fa1be4680bc99e\"\n",
    "    provider = QwenProvider(api_key)\n",
    "    gen = Generator(provider)\n",
    "    ooc = OOCChecker(provider)\n",
    "    mem = MemoryStore()\n",
    "    summ = MemorySummarizer(provider)\n",
    "\n",
    "persona = \"Elira, a cheerful tavern keeper who knows the town’s secrets.\"\n",
    "context = \"Player enters the tavern and asks for rumors.\"\n",
    "\n",
    "# 生成候选\n",
    "candidates = gen.generate_candidates(ctx=context, persona=persona, n=2)"
   ]
  },
  {
   "cell_type": "code",
   "execution_count": 59,
   "id": "b390798c",
   "metadata": {},
   "outputs": [
    {
     "name": "stdout",
     "output_type": "stream",
     "text": [
      "Generated Candidates: [{'draft': {'text': \"Oh, you're in luck! Just yesterday, a traveler mentioned something about a hidden cave with glowing crystals near the old forest. I've heard whispers that it's guarded by something magical, though!\", 'meta': {'self_report': 'I feel excited and a bit mysterious, as if I’ve just shared a secret that could lead to adventure.', 'sentiment': 'positive'}}}, {'draft': {'text': \"Hmm... word around town is that the blacksmith's forge went cold last night, and he won't say why. Some say he found something strange in the mountains, others think he's hiding from someone.\", 'meta': {'self_report': 'I feel intrigued and slightly uneasy, as the mystery deepens and suspicion grows.', 'sentiment': 'negative'}}}]\n"
     ]
    }
   ],
   "source": [
    "import json\n",
    "print(\"Generated Candidates:\", candidates)"
   ]
  },
  {
   "cell_type": "code",
   "execution_count": 60,
   "id": "8d6d9776",
   "metadata": {},
   "outputs": [
    {
     "name": "stdout",
     "output_type": "stream",
     "text": [
      "Selected Response: {'draft': {'text': \"Oh, you're in luck! Just yesterday, a traveler mentioned something about a hidden cave with glowing crystals near the old forest. I've heard whispers that it's guarded by something magical, though!\", 'meta': {'self_report': 'I feel excited and a bit mysterious, as if I’ve just shared a secret that could lead to adventure.', 'sentiment': 'positive'}}}\n"
     ]
    }
   ],
   "source": [
    "# 重排选优\n",
    "best = gen.rank(candidates, persona, context)\n",
    "print(\"Selected Response:\", best)\n"
   ]
  },
  {
   "cell_type": "code",
   "execution_count": null,
   "id": "09e61811",
   "metadata": {},
   "outputs": [
    {
     "name": "stdout",
     "output_type": "stream",
     "text": [
      "\n",
      "QwenProvider.generate attempt 1\n",
      "Response received, processing chunks...\n",
      "Full generated text: ```json\n",
      "{\n",
      "  \"ooc_risk\": 0.1,\n",
      "  \"reasons\": [\n",
      "    \"The reply is polite and in-character for a tavern setting where NPCs may need clarification.\",\n",
      "    \"The response is generic but does not break immersion or suggest meta-knowledge.\",\n",
      "    \"Minimal risk as the\n",
      "<class 'str'>\n",
      "[ERROR] Expecting value: line 1 column 1 (char 0)\n",
      "[WARN] Failed to parse JSON output, retrying...\n",
      "Exiting generate after retries.\n",
      "[WARN] provider.judge() 返回 None 或非法格式，使用默认值。\n",
      "OOC Check: {'draft': {'text': \"I'm sorry, I didn’t quite catch that.\", 'meta': {'self_report': 'Polite and attentive, seeking clarification', 'sentiment': 'neutral'}}, 'meta': {'ooc_flag': False}}\n",
      "<class 'dict'>\n"
     ]
    }
   ],
   "source": [
    "# # OOC检测\n",
    "# checked = ooc.judge_ooc(context, best)\n",
    "# print(\"OOC Check:\", checked)\n",
    "# print(type(checked))"
   ]
  },
  {
   "cell_type": "code",
   "execution_count": 61,
   "id": "1dc781c3",
   "metadata": {},
   "outputs": [],
   "source": [
    "# 写入记忆\n",
    "mem.append_event({\"speaker\": \"NPC\", \"text\": best[\"draft\"][\"text\"], \"emotion\": best[\"draft\"][\"meta\"][\"sentiment\"]})"
   ]
  },
  {
   "cell_type": "code",
   "execution_count": null,
   "id": "eb140af1",
   "metadata": {},
   "outputs": [
    {
     "name": "stdout",
     "output_type": "stream",
     "text": [
      "\n",
      "QwenProvider.generate attempt 1\n",
      "[ERROR] Expecting value: line 1 column 1 (char 0)\n",
      "[WARN] Failed to parse JSON output, retrying...\n",
      "\n",
      "QwenProvider.generate attempt 2\n",
      "[ERROR] Expecting value: line 1 column 1 (char 0)\n",
      "[WARN] Failed to parse JSON output, retrying...\n",
      "Exiting generate after retries.\n",
      "NPC: Oh, you're in luck! Just yesterday, a traveler mentioned something about a hidden cave with glowing crystals near the old forest. I've heard whispers that it's guarded by something magical, though! | Emotion: positive\n"
     ]
    }
   ],
   "source": [
    "\n",
    "# 摘要记忆\n",
    "facts = summ.summarize(mem.get_short_window())\n",
    "mem.write_longterm(\"player1\", \"npc_elira\", facts)\n",
    "\n",
    "print(\"NPC:\", best[\"draft\"][\"text\"], \"| Emotion:\", best[\"draft\"][\"meta\"][\"sentiment\"])\n",
    "\n"
   ]
  }
 ],
 "metadata": {
  "kernelspec": {
   "display_name": "py3.9",
   "language": "python",
   "name": "python3"
  },
  "language_info": {
   "codemirror_mode": {
    "name": "ipython",
    "version": 3
   },
   "file_extension": ".py",
   "mimetype": "text/x-python",
   "name": "python",
   "nbconvert_exporter": "python",
   "pygments_lexer": "ipython3",
   "version": "3.9.23"
  }
 },
 "nbformat": 4,
 "nbformat_minor": 5
}
